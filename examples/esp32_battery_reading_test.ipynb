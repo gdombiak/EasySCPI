{
 "cells": [
  {
   "cell_type": "code",
   "execution_count": 1,
   "metadata": {
    "collapsed": true
   },
   "outputs": [],
   "source": [
    "import math\n",
    "import time\n",
    "import pyvisa as visa\n",
    "\n",
    "from dp832.DP832 import DP832\n",
    "from dmm6500.DMM6500 import DMM6500\n",
    "from dmm6500.Sense import Function\n",
    "from dmm6500.Sense import Range\n",
    "from dmm6500.Trace import Element\n",
    "from utils.Units import CurrentUnit\n",
    "\n",
    "import pandas as pd\n",
    "import plotly.express as px\n"
   ]
  },
  {
   "cell_type": "code",
   "execution_count": 2,
   "metadata": {
    "pycharm": {
     "name": "#%%\n"
    }
   },
   "outputs": [
    {
     "name": "stdout",
     "output_type": "stream",
     "text": [
      "Failed to open resource. Error:  VI_ERROR_RSRC_NFOUND (-1073807343): Insufficient location information or the requested device or resource is not present in the system.\n"
     ]
    }
   ],
   "source": [
    "rm = visa.ResourceManager()\n",
    "failed = False\n",
    "try:\n",
    "    dp832 = DP832(rm)\n",
    "    dp832.open('TCPIP::192.168.252.18::INSTR')\n",
    "    dp832.clear()\n",
    "    print(dp832.query_id())\n",
    "\n",
    "    dmm = DMM6500(rm)\n",
    "    dmm.open('TCPIP::192.168.252.20::INSTR')\n",
    "    dmm.clear()\n",
    "    dmm.reset()\n",
    "    print(dmm.query_id())\n",
    "\n",
    "\n",
    "    # Power Supply - Turn off timer so we can set configuration\n",
    "    dp832.timer.turn_on(False)\n",
    "\n",
    "    # Power Supply - Set OCP and OVP for channel 1\n",
    "    dp832.output.overvoltage_protection_value(1, 4.9)\n",
    "    dp832.output.overvoltage_protection(1, True)\n",
    "    dp832.output.overcurrent_protection_value(1, 2.5)\n",
    "    dp832.output.overcurrent_protection(1, True)\n",
    "\n",
    "    # Power Supply - Select channel 1, set Timer configuration\n",
    "    seconds_timer = 45\n",
    "    dp832.instrument.nselect(1)\n",
    "    dp832.timer.cycles(1)\n",
    "    dp832.timer.groups(4)\n",
    "    dp832.timer.parameter(0, 4.2, 2, seconds_timer)\n",
    "    dp832.timer.parameter(1, 3.8, 2, seconds_timer)\n",
    "    dp832.timer.parameter(2, 3.2, 2, seconds_timer)\n",
    "    dp832.timer.parameter(3, 3.1, 2, seconds_timer)\n",
    "    dp832.timer.turn_off_when_done(True)\n",
    "\n",
    "    # DMM - Configure to measure Current DC\n",
    "    read_seconds = math.ceil(seconds_timer * 4 * 1.05) # Add 5% to read time since we start reading before turning on power supply\n",
    "    dmm.sense.function(Function.CURRENT_DC)\n",
    "    dmm.sense.range(Function.CURRENT_DC, Range.CURRENT_DC_1A)\n",
    "    dmm.trigger.duration_loop(read_seconds, 0, \"defbuffer1\") # Measure for requested seconds\n",
    "\n",
    "    # DMM - Start measuring\n",
    "    dmm.init() # Start the trigger model\n",
    "    dmm.wait() # Wait for the trigger model to complete\n",
    "\n",
    "    # Power Supply - Turn on channel 1 and enable timer\n",
    "    dp832.output.turn_on(1, True)\n",
    "    dp832.timer.turn_on(True)\n",
    "\n",
    "    # Wait for Power Supply and DMM to be done running their scripts\n",
    "    time.sleep(read_seconds)\n",
    "\n",
    "    # Power Supply - Reset setting, OCP and OVP to a value I normally\n",
    "    dp832.output.overvoltage_protection_value(1, 5.2)\n",
    "    dp832.output.overcurrent_protection_value(1, 1.2)\n",
    "    dp832.source.voltage(1, 4.2)\n",
    "    dp832.source.current(1, 1.0)\n",
    "\n",
    "    # DMM - Read stats\n",
    "    max_read_data = dmm.trace.actual(\"defbuffer1\")\n",
    "    dmm_values = dmm.trace.data(max_read_data, \"defbuffer1\", Element.READING).split(',')\n",
    "    dmm_timestamps = dmm.trace.data(max_read_data, \"defbuffer1\", Element.RELATIVE).split(',')\n",
    "    for i in range(0, len(dmm_timestamps)):\n",
    "        dmm_timestamps[i] = float(dmm_timestamps[i])\n",
    "        dmm_values[i] = CurrentUnit.MILLI.convert(float(dmm_values[i]))\n",
    "\n",
    "    dmm_stats_avg = dmm.trace.stats_average(\"defbuffer1\")\n",
    "    dmm_stats_min = dmm.trace.stats_min(\"defbuffer1\")\n",
    "    dmm_stats_max = dmm.trace.stats_max(\"defbuffer1\")\n",
    "\n",
    "    # Close sessions/connections\n",
    "    dp832.close()\n",
    "    dmm.close()\n",
    "\n",
    "except visa.VisaIOError as err:\n",
    "    print(\"Failed to open resource. Error: \", err)\n",
    "    failed = True"
   ]
  },
  {
   "cell_type": "code",
   "execution_count": 3,
   "metadata": {
    "pycharm": {
     "name": "#%%\n"
    }
   },
   "outputs": [
    {
     "ename": "NameError",
     "evalue": "name 'dmm_timestamps' is not defined",
     "output_type": "error",
     "traceback": [
      "\u001B[0;31m---------------------------------------------------------------------------\u001B[0m",
      "\u001B[0;31mNameError\u001B[0m                                 Traceback (most recent call last)",
      "Input \u001B[0;32mIn [3]\u001B[0m, in \u001B[0;36m<module>\u001B[0;34m\u001B[0m\n\u001B[0;32m----> 1\u001B[0m d \u001B[38;5;241m=\u001B[39m {\u001B[38;5;124m\"\u001B[39m\u001B[38;5;124mTime\u001B[39m\u001B[38;5;124m\"\u001B[39m: \u001B[43mdmm_timestamps\u001B[49m, \u001B[38;5;124m\"\u001B[39m\u001B[38;5;124mReading\u001B[39m\u001B[38;5;124m\"\u001B[39m: dmm_values}\n\u001B[1;32m      2\u001B[0m df \u001B[38;5;241m=\u001B[39m pd\u001B[38;5;241m.\u001B[39mDataFrame(d)\n",
      "\u001B[0;31mNameError\u001B[0m: name 'dmm_timestamps' is not defined"
     ]
    }
   ],
   "source": [
    "d = {\"Time\": dmm_timestamps, \"Reading\": dmm_values}\n",
    "df = pd.DataFrame(d)"
   ]
  },
  {
   "cell_type": "code",
   "execution_count": null,
   "metadata": {
    "pycharm": {
     "name": "#%%\n"
    }
   },
   "outputs": [],
   "source": [
    "fig = px.line(df, x=\"Time\", y=\"Reading\", title=\"My Readings\")\n",
    "fig.update_traces(mode=\"markers+lines\")\n",
    "fig.update_yaxes(type='linear')\n",
    "fig.update_layout(\n",
    "    yaxis = dict(\n",
    "        ticksuffix = ' ' + CurrentUnit.MILLI.unit()\n",
    "    ))\n",
    "fig.show()\n",
    "\n",
    "print(f\"Max {CurrentUnit.MILLI.convert(dmm_stats_max)}mA\")\n",
    "print(f\"Min {CurrentUnit.MICRO.convert(dmm_stats_min)}uA\")\n",
    "print(f\"Avg {CurrentUnit.MILLI.convert(dmm_stats_avg)}mA\")\n"
   ]
  }
 ],
 "metadata": {
  "kernelspec": {
   "display_name": "Python 3 (ipykernel)",
   "language": "python",
   "name": "python3"
  },
  "language_info": {
   "codemirror_mode": {
    "name": "ipython",
    "version": 3
   },
   "file_extension": ".py",
   "mimetype": "text/x-python",
   "name": "python",
   "nbconvert_exporter": "python",
   "pygments_lexer": "ipython3",
   "version": "3.10.0"
  }
 },
 "nbformat": 4,
 "nbformat_minor": 1
}